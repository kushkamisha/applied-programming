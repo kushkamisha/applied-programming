{
 "cells": [
  {
   "cell_type": "markdown",
   "metadata": {},
   "source": [
    "### 3.1. Мінімальний трикутник\n",
    "В заданому довільному полігоні A0A1...An-1 знайти такі три вершини Ak, Ap та  Aq, щоб площа трикутника AkApAq була найменшою з можливих, а сам трикутник повністю знаходився всередині полігону.\n",
    "\n",
    "<b>Технічні вимоги.</b>\n",
    "\n",
    "Координати точок A0, A1, ..., An-1 - цілі числа.\n",
    "\n",
    "**Вхід.** Текстовий файл, у першому рядку n - кількість вершин полігону \n",
    "\n",
    "у наступних n рядках  - у кожному через пропуски координати вершин Ai (Aix ; Aiy), i=0, 1, ..., n-1.\n",
    "\n",
    "**Вихід.** Три номери вершин (нумерація вершин полігону - з нуля) і площа трикутника.\n",
    "![Мінімальний трикутник](img/triangle.png)"
   ]
  },
  {
   "cell_type": "code",
   "execution_count": 9,
   "metadata": {},
   "outputs": [],
   "source": [
    "from shapely.geometry import Polygon, Point"
   ]
  },
  {
   "cell_type": "markdown",
   "metadata": {},
   "source": [
    "#### Read file"
   ]
  },
  {
   "cell_type": "code",
   "execution_count": 31,
   "metadata": {},
   "outputs": [
    {
     "data": {
      "text/plain": [
       "'\\ufeff15\\n12 10\\n0 0\\n0 26\\n4 10\\n2 26\\n4 20\\n4 24\\n6 26\\n10 12\\n10 24\\n12 24\\n12 18\\n18 18\\n14 12\\n18 10\\n\\n\\n'"
      ]
     },
     "execution_count": 31,
     "metadata": {},
     "output_type": "execute_result"
    }
   ],
   "source": [
    "f = open(\"data/Test31_4.txt\", \"r\")\n",
    "f.read()\n",
    "# n, *vertexes = list(filter(None, map(lambda x: list(map(lambda y: int(y), x.split())), f.read().splitlines())))\n",
    "# n = n[0]\n",
    "# if (n != len(vertexes)):\n",
    "#     raise Exception(\"The number of vertexes is not {}\".format(n))\n",
    "# n, vertexes"
   ]
  },
  {
   "cell_type": "code",
   "execution_count": 24,
   "metadata": {
    "scrolled": false
   },
   "outputs": [
    {
     "data": {
      "image/svg+xml": [
       "<svg xmlns=\"http://www.w3.org/2000/svg\" xmlns:xlink=\"http://www.w3.org/1999/xlink\" width=\"100.0\" height=\"100.0\" viewBox=\"-1.04 -1.04 20.08 28.08\" preserveAspectRatio=\"xMinYMin meet\"><g transform=\"matrix(1,0,0,-1,0,26.0)\"><path fill-rule=\"evenodd\" fill=\"#66cc99\" stroke=\"#555555\" stroke-width=\"0.5616\" opacity=\"0.6\" d=\"M 12.0,10.0 L 0.0,0.0 L 0.0,26.0 L 4.0,10.0 L 2.0,26.0 L 4.0,20.0 L 4.0,24.0 L 6.0,26.0 L 10.0,12.0 L 10.0,24.0 L 12.0,24.0 L 12.0,18.0 L 18.0,18.0 L 14.0,12.0 L 18.0,10.0 L 12.0,10.0 z\" /></g></svg>"
      ],
      "text/plain": [
       "<shapely.geometry.polygon.Polygon at 0x7f804054d4c0>"
      ]
     },
     "execution_count": 24,
     "metadata": {},
     "output_type": "execute_result"
    }
   ],
   "source": [
    "figure = Polygon(vertexes)\n",
    "figure"
   ]
  },
  {
   "cell_type": "code",
   "execution_count": 25,
   "metadata": {},
   "outputs": [
    {
     "data": {
      "text/plain": [
       "(2.0, [0, 1, 13], [[12, 10], [0, 0], [14, 12]])"
      ]
     },
     "execution_count": 25,
     "metadata": {},
     "output_type": "execute_result"
    }
   ],
   "source": [
    "min_area = 999999\n",
    "min_coordinates = []\n",
    "for i in range(n):\n",
    "    for j in range(n):\n",
    "        if i == j:\n",
    "            continue\n",
    "        for k in range(n):\n",
    "            if i == k or j == k:\n",
    "                continue\n",
    "            triangle = Polygon([vertexes[i], vertexes[j], vertexes[k]])\n",
    "            area = triangle.area\n",
    "            if (area < min_area and area > 0 and figure.contains(triangle)):\n",
    "                min_area = area\n",
    "                min_coordinates = [i, j, k]\n",
    "min_vertexes = list(map(lambda x: vertexes[x], min_coordinates))\n",
    "min_area, min_coordinates, min_vertexes"
   ]
  },
  {
   "cell_type": "code",
   "execution_count": 26,
   "metadata": {},
   "outputs": [
    {
     "data": {
      "image/svg+xml": [
       "<svg xmlns=\"http://www.w3.org/2000/svg\" xmlns:xlink=\"http://www.w3.org/1999/xlink\" width=\"100.0\" height=\"100.0\" viewBox=\"-0.56 -0.56 15.120000000000001 13.120000000000001\" preserveAspectRatio=\"xMinYMin meet\"><g transform=\"matrix(1,0,0,-1,0,12.0)\"><path fill-rule=\"evenodd\" fill=\"#66cc99\" stroke=\"#555555\" stroke-width=\"0.3024\" opacity=\"0.6\" d=\"M 12.0,10.0 L 0.0,0.0 L 14.0,12.0 L 12.0,10.0 z\" /></g></svg>"
      ],
      "text/plain": [
       "<shapely.geometry.polygon.Polygon at 0x7f80403541f0>"
      ]
     },
     "execution_count": 26,
     "metadata": {},
     "output_type": "execute_result"
    }
   ],
   "source": [
    "Polygon(min_vertexes)"
   ]
  },
  {
   "cell_type": "code",
   "execution_count": null,
   "metadata": {},
   "outputs": [],
   "source": []
  }
 ],
 "metadata": {
  "kernelspec": {
   "display_name": "py38",
   "language": "python",
   "name": "myipy_jupter_env3"
  },
  "language_info": {
   "codemirror_mode": {
    "name": "ipython",
    "version": 3
   },
   "file_extension": ".py",
   "mimetype": "text/x-python",
   "name": "python",
   "nbconvert_exporter": "python",
   "pygments_lexer": "ipython3",
   "version": "3.8.1"
  }
 },
 "nbformat": 4,
 "nbformat_minor": 4
}
