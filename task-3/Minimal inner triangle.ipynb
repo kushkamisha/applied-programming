{
 "cells": [
  {
   "cell_type": "markdown",
   "metadata": {},
   "source": [
    "### 3.1. Мінімальний трикутник\n",
    "В заданому довільному полігоні A0A1...An-1 знайти такі три вершини Ak, Ap та  Aq, щоб площа трикутника AkApAq була найменшою з можливих, а сам трикутник повністю знаходився всередині полігону.\n",
    "\n",
    "<b>Технічні вимоги.</b>\n",
    "\n",
    "Координати точок A0, A1, ..., An-1 - цілі числа.\n",
    "\n",
    "**Вхід.** Текстовий файл, у першому рядку n - кількість вершин полігону \n",
    "\n",
    "у наступних n рядках  - у кожному через пропуски координати вершин Ai (Aix ; Aiy), i=0, 1, ..., n-1.\n",
    "\n",
    "**Вихід.** Три номери вершин (нумерація вершин полігону - з нуля) і площа трикутника.\n",
    "![Мінімальний трикутник](img/triangle.png)"
   ]
  },
  {
   "cell_type": "code",
   "execution_count": 1,
   "metadata": {},
   "outputs": [],
   "source": [
    "from shapely.geometry import Polygon, Point"
   ]
  },
  {
   "cell_type": "markdown",
   "metadata": {},
   "source": [
    "#### Read file"
   ]
  },
  {
   "cell_type": "code",
   "execution_count": 2,
   "metadata": {},
   "outputs": [
    {
     "data": {
      "text/plain": [
       "(14,\n",
       " [[-2, 6],\n",
       "  [0, 4],\n",
       "  [-2, 4],\n",
       "  [2, 0],\n",
       "  [2, 4],\n",
       "  [6, 4],\n",
       "  [2, 6],\n",
       "  [2, 10],\n",
       "  [-12, 10],\n",
       "  [-10, 8],\n",
       "  [-8, 8],\n",
       "  [-10, 6],\n",
       "  [-12, 8],\n",
       "  [-12, 4]])"
      ]
     },
     "execution_count": 2,
     "metadata": {},
     "output_type": "execute_result"
    }
   ],
   "source": [
    "f = open(\"data/Test31_1.txt\", \"r\", encoding=\"utf-8-sig\")\n",
    "n, *vertexes = list(filter(None, map(lambda x: list(map(lambda y: int(y), x.split())), f.read().splitlines())))\n",
    "n = n[0]\n",
    "if (n != len(vertexes)):\n",
    "    raise Exception(\"The number of vertexes is not {}\".format(n))\n",
    "n, vertexes"
   ]
  },
  {
   "cell_type": "code",
   "execution_count": 3,
   "metadata": {
    "scrolled": false
   },
   "outputs": [
    {
     "data": {
      "image/svg+xml": [
       "<svg xmlns=\"http://www.w3.org/2000/svg\" xmlns:xlink=\"http://www.w3.org/1999/xlink\" width=\"100.0\" height=\"100.0\" viewBox=\"-12.72 -0.72 19.44 11.440000000000001\" preserveAspectRatio=\"xMinYMin meet\"><g transform=\"matrix(1,0,0,-1,0,10.0)\"><path fill-rule=\"evenodd\" fill=\"#66cc99\" stroke=\"#555555\" stroke-width=\"0.38880000000000003\" opacity=\"0.6\" d=\"M -2.0,6.0 L 0.0,4.0 L -2.0,4.0 L 2.0,0.0 L 2.0,4.0 L 6.0,4.0 L 2.0,6.0 L 2.0,10.0 L -12.0,10.0 L -10.0,8.0 L -8.0,8.0 L -10.0,6.0 L -12.0,8.0 L -12.0,4.0 L -2.0,6.0 z\" /></g></svg>"
      ],
      "text/plain": [
       "<shapely.geometry.polygon.Polygon at 0x7ff17ec4d790>"
      ]
     },
     "execution_count": 3,
     "metadata": {},
     "output_type": "execute_result"
    }
   ],
   "source": [
    "figure = Polygon(vertexes)\n",
    "figure"
   ]
  },
  {
   "cell_type": "code",
   "execution_count": 5,
   "metadata": {},
   "outputs": [
    {
     "data": {
      "text/plain": [
       "(2.0, [0, 1, 4], [[-2, 6], [0, 4], [2, 4]])"
      ]
     },
     "execution_count": 5,
     "metadata": {},
     "output_type": "execute_result"
    }
   ],
   "source": [
    "min_area = 999999\n",
    "min_coordinates = []\n",
    "for i in range(n):\n",
    "    for j in range(n):\n",
    "        if i == j:\n",
    "            continue\n",
    "        for k in range(n):\n",
    "            if i == k or j == k:\n",
    "                continue\n",
    "            triangle = Polygon([vertexes[i], vertexes[j], vertexes[k]])\n",
    "            area = triangle.area\n",
    "            if (area < min_area and area > 0 and figure.contains(triangle)):\n",
    "                min_area = area\n",
    "                min_coordinates = [i, j, k]\n",
    "min_vertexes = list(map(lambda x: vertexes[x], min_coordinates))\n",
    "min_area, min_coordinates, min_vertexes"
   ]
  },
  {
   "cell_type": "code",
   "execution_count": 6,
   "metadata": {},
   "outputs": [
    {
     "data": {
      "image/svg+xml": [
       "<svg xmlns=\"http://www.w3.org/2000/svg\" xmlns:xlink=\"http://www.w3.org/1999/xlink\" width=\"100.0\" height=\"100.0\" viewBox=\"-2.16 3.84 4.32 2.3200000000000003\" preserveAspectRatio=\"xMinYMin meet\"><g transform=\"matrix(1,0,0,-1,0,10.0)\"><path fill-rule=\"evenodd\" fill=\"#66cc99\" stroke=\"#555555\" stroke-width=\"0.0864\" opacity=\"0.6\" d=\"M -2.0,6.0 L 0.0,4.0 L 2.0,4.0 L -2.0,6.0 z\" /></g></svg>"
      ],
      "text/plain": [
       "<shapely.geometry.polygon.Polygon at 0x7ff17ec51f40>"
      ]
     },
     "execution_count": 6,
     "metadata": {},
     "output_type": "execute_result"
    }
   ],
   "source": [
    "Polygon(min_vertexes)"
   ]
  },
  {
   "cell_type": "code",
   "execution_count": null,
   "metadata": {},
   "outputs": [],
   "source": []
  }
 ],
 "metadata": {
  "kernelspec": {
   "display_name": "py38",
   "language": "python",
   "name": "myipy_jupter_env3"
  },
  "language_info": {
   "codemirror_mode": {
    "name": "ipython",
    "version": 3
   },
   "file_extension": ".py",
   "mimetype": "text/x-python",
   "name": "python",
   "nbconvert_exporter": "python",
   "pygments_lexer": "ipython3",
   "version": "3.8.1"
  }
 },
 "nbformat": 4,
 "nbformat_minor": 4
}
