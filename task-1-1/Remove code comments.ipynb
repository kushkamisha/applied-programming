{
 "cells": [
  {
   "cell_type": "markdown",
   "metadata": {},
   "source": [
    "## 1.1. Видалення коментарів.\n",
    "Побудувати діаграму станів та таблицю переходів між станами для алгоритму, що здійснює за один прохід видалення багаторядкових та однорядкових коментарів у тексті комп'ютерної програми. Відправити два файли (діаграма з таблицею + програма) у зазначений термін.\n",
    "\n",
    "Технічні вимоги.\n",
    "\n",
    "1. Початок багаторядкового коментаря позначається символами \"/*\" завершення - \"*/\". Багаторядковий коментар може знаходитись у межах одного рядка.\n",
    "\n",
    "2. Початок однорядкового коментаря - \"//\". Вважається, що коментар розташований до кінця рядка.\n",
    "\n",
    "3. Програма не повинна реагувати на символи \"/*\", \"*/\", \"//\", якщо вони зустрічаються серед символів, заключених у лапки , тобто присутні у певних конкретних рядках символів, які можуть оброблятися у програмі.\n",
    "\n",
    "4. Вхід. Текстовий файл комп'ютерної програми. Ім'я задається з клавіатури.\n",
    "\n",
    "5. Вихід. Текстовий файл, в якому видалені коментарі та збережено взаємне початкове розташування рядків програми, тобто НЕ відбувається \"перескакування\" частини одного рядка до іншого."
   ]
  },
  {
   "cell_type": "code",
   "execution_count": 382,
   "metadata": {},
   "outputs": [],
   "source": [
    "from os import path"
   ]
  },
  {
   "cell_type": "code",
   "execution_count": 383,
   "metadata": {},
   "outputs": [
    {
     "name": "stdout",
     "output_type": "stream",
     "text": [
      "all.java\n",
      "The selected file is \"input/all.java\"\n"
     ]
    }
   ],
   "source": [
    "filename = '___'\n",
    "while not path.exists('input/{}'.format(filename)):\n",
    "    filename = input()\n",
    "print('The selected file is \"input/{}\"'.format(filename))"
   ]
  },
  {
   "cell_type": "code",
   "execution_count": 384,
   "metadata": {},
   "outputs": [
    {
     "name": "stdout",
     "output_type": "stream",
     "text": [
      "File size is 742 chars\n"
     ]
    }
   ],
   "source": [
    "with open('input/{}'.format(filename), 'r') as f:\n",
    "    data = f.read()\n",
    "print('File size is {} chars'.format(len(data)))"
   ]
  },
  {
   "cell_type": "code",
   "execution_count": 385,
   "metadata": {},
   "outputs": [],
   "source": [
    "class state:\n",
    "    READ = 0\n",
    "    LINE_COMMENT = 2\n",
    "    MULTILINE_COMMENT = 3\n",
    "    QUOTES = 4"
   ]
  },
  {
   "cell_type": "code",
   "execution_count": 386,
   "metadata": {},
   "outputs": [],
   "source": [
    "def read():\n",
    "    global currentstate\n",
    "    global pointer\n",
    "    if data[pointer] == '/' and pointer + 1 < len(data):\n",
    "        if data[pointer + 1] == '/':\n",
    "            currentstate = state.LINE_COMMENT\n",
    "        if data[pointer + 1] == '*':\n",
    "            currentstate = state.MULTILINE_COMMENT\n",
    "    if data[pointer] == '\"':\n",
    "        currentstate = state.QUOTES\n",
    "\n",
    "def quotes():\n",
    "    global currentstate\n",
    "    if data[pointer] == '\"':\n",
    "        currentstate = state.READ\n",
    "\n",
    "def line_comment():\n",
    "    global currentstate\n",
    "    global pointer\n",
    "    if data[pointer] == '\\n':\n",
    "        currentstate = state.READ\n",
    "        if pointer + 1 < len(data):\n",
    "            pointer += 1\n",
    "\n",
    "def multiline_comment():\n",
    "    global currentstate\n",
    "    global pointer\n",
    "    if data[pointer] == '*' and pointer + 1 < len(data):\n",
    "        if data[pointer + 1] == '/':\n",
    "            if pointer + 2 < len(data):\n",
    "                currentstate = state.READ\n",
    "                pointer += 2\n",
    "            else:\n",
    "                pointer += 1"
   ]
  },
  {
   "cell_type": "code",
   "execution_count": 387,
   "metadata": {},
   "outputs": [],
   "source": [
    "statemap = {\n",
    "    state.READ: read,\n",
    "    state.QUOTES: quotes,\n",
    "    state.LINE_COMMENT: line_comment,\n",
    "    state.MULTILINE_COMMENT: multiline_comment,\n",
    "}"
   ]
  },
  {
   "cell_type": "code",
   "execution_count": 388,
   "metadata": {},
   "outputs": [],
   "source": [
    "pointer = 0\n",
    "currentstate = state.READ\n",
    "out = ''\n",
    "\n",
    "while(pointer < len(data) - 1):\n",
    "    statemap[currentstate]()\n",
    "    if currentstate == state.READ or currentstate == state.QUOTES:\n",
    "        out += data[pointer]\n",
    "    pointer += 1"
   ]
  },
  {
   "cell_type": "code",
   "execution_count": 389,
   "metadata": {},
   "outputs": [
    {
     "name": "stdout",
     "output_type": "stream",
     "text": [
      "The file without comments is written to \"output/all.java\"\n"
     ]
    }
   ],
   "source": [
    "with open('output/{}'.format(filename), 'w') as f:\n",
    "    f.write(out)\n",
    "print('The file without comments is written to \"output/{}\"'.format(filename))"
   ]
  },
  {
   "cell_type": "code",
   "execution_count": null,
   "metadata": {},
   "outputs": [],
   "source": []
  }
 ],
 "metadata": {
  "kernelspec": {
   "display_name": "py38",
   "language": "python",
   "name": "myipy_jupter_env3"
  },
  "language_info": {
   "codemirror_mode": {
    "name": "ipython",
    "version": 3
   },
   "file_extension": ".py",
   "mimetype": "text/x-python",
   "name": "python",
   "nbconvert_exporter": "python",
   "pygments_lexer": "ipython3",
   "version": "3.8.1"
  }
 },
 "nbformat": 4,
 "nbformat_minor": 4
}
