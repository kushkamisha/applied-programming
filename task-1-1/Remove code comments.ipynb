{
 "cells": [
  {
   "cell_type": "code",
   "execution_count": 165,
   "metadata": {},
   "outputs": [],
   "source": [
    "# class state:\n",
    "#     STRING_START = 0\n",
    "#     STRING_END = 1            # under \"DN array\" heading\n",
    "#     COMMENT_START = 2       # aPDU-rose : invoke :\n",
    "#     COMMENT_END = 3      # aPDU-rose : retResult :\n",
    "#     LINE_COMMENT = 4\n",
    "#     READ = 5"
   ]
  },
  {
   "cell_type": "code",
   "execution_count": 166,
   "metadata": {},
   "outputs": [],
   "source": [
    "class state:\n",
    "    READ = 0\n",
    "    LINE_COMMENT = 2\n",
    "    QUOTES = 3\n",
    "    NEW_LINE = 4\n",
    "    IGNORE = 5\n",
    "    END_OF_FILE = 6"
   ]
  },
  {
   "cell_type": "code",
   "execution_count": 167,
   "metadata": {},
   "outputs": [],
   "source": [
    "filename = 'simple.js'"
   ]
  },
  {
   "cell_type": "code",
   "execution_count": 168,
   "metadata": {},
   "outputs": [],
   "source": [
    "with open('input/{}'.format(filename), 'r') as f:\n",
    "    data = f.read()"
   ]
  },
  {
   "cell_type": "code",
   "execution_count": 169,
   "metadata": {},
   "outputs": [
    {
     "data": {
      "text/plain": [
       "'// Comment\\nconsole.log(1)\\n// another one //\\nconsole.log(2)\\n//\\n// Line\\n//\\nconsole.log(3 / 2)\\nconsole.log(\"// This is not a comment\")\\nconsole.log(5) // And this is a comment\\n//\\n'"
      ]
     },
     "execution_count": 169,
     "metadata": {},
     "output_type": "execute_result"
    }
   ],
   "source": [
    "data"
   ]
  },
  {
   "cell_type": "code",
   "execution_count": 170,
   "metadata": {},
   "outputs": [],
   "source": [
    "pointer = 0"
   ]
  },
  {
   "cell_type": "code",
   "execution_count": 182,
   "metadata": {},
   "outputs": [],
   "source": [
    "def read():\n",
    "    global currentstate\n",
    "    global pointer\n",
    "    print('read: {}'.format(data[pointer]))\n",
    "    if data[pointer] == '/' and pointer + 1 < len(data):\n",
    "        if data[pointer + 1] == '/':\n",
    "            currentstate = state.LINE_COMMENT\n",
    "    if data[pointer] == '\"':\n",
    "        currentstate = state.QUOTES"
   ]
  },
  {
   "cell_type": "code",
   "execution_count": 183,
   "metadata": {},
   "outputs": [],
   "source": [
    "def quotes():\n",
    "    global currentstate\n",
    "    print('quotes: {}'.format(data[pointer]))\n",
    "    if data[pointer] == '\"':\n",
    "        currentstate = state.READ"
   ]
  },
  {
   "cell_type": "code",
   "execution_count": 184,
   "metadata": {},
   "outputs": [],
   "source": [
    "def line_comment():\n",
    "    global currentstate\n",
    "    global pointer\n",
    "    print('line comment: {}'.format(data[pointer]))\n",
    "    if data[pointer] == '\\n':\n",
    "        currentstate = state.READ"
   ]
  },
  {
   "cell_type": "code",
   "execution_count": 185,
   "metadata": {},
   "outputs": [],
   "source": [
    "# def new_line():\n",
    "#     global currentstate\n",
    "#     print('new line: {}'.format(data[pointer]))\n",
    "#     currentstate = state.READ"
   ]
  },
  {
   "cell_type": "code",
   "execution_count": 186,
   "metadata": {},
   "outputs": [],
   "source": [
    "statemap = {\n",
    "    state.READ: read,\n",
    "    state.QUOTES: quotes,\n",
    "    state.LINE_COMMENT: line_comment,\n",
    "#     state.BACK_SLASH: back_slash,\n",
    "}"
   ]
  },
  {
   "cell_type": "code",
   "execution_count": 187,
   "metadata": {},
   "outputs": [
    {
     "name": "stdout",
     "output_type": "stream",
     "text": [
      "read: /\n",
      "line comment: /\n",
      "line comment:  \n",
      "line comment: C\n",
      "line comment: o\n",
      "line comment: m\n",
      "line comment: m\n",
      "line comment: e\n",
      "line comment: n\n",
      "line comment: t\n",
      "line comment: \n",
      "\n",
      "read: c\n",
      "read: o\n",
      "read: n\n",
      "read: s\n",
      "read: o\n",
      "read: l\n",
      "read: e\n",
      "read: .\n",
      "read: l\n",
      "read: o\n",
      "read: g\n",
      "read: (\n",
      "read: 1\n",
      "read: )\n",
      "read: \n",
      "\n",
      "read: /\n",
      "line comment: /\n",
      "line comment:  \n",
      "line comment: a\n",
      "line comment: n\n",
      "line comment: o\n",
      "line comment: t\n",
      "line comment: h\n",
      "line comment: e\n",
      "line comment: r\n",
      "line comment:  \n",
      "line comment: o\n",
      "line comment: n\n",
      "line comment: e\n",
      "line comment:  \n",
      "line comment: /\n",
      "line comment: /\n",
      "line comment: \n",
      "\n",
      "read: c\n",
      "read: o\n",
      "read: n\n",
      "read: s\n",
      "read: o\n",
      "read: l\n",
      "read: e\n",
      "read: .\n",
      "read: l\n",
      "read: o\n",
      "read: g\n",
      "read: (\n",
      "read: 2\n",
      "read: )\n",
      "read: \n",
      "\n",
      "read: /\n",
      "line comment: /\n",
      "line comment: \n",
      "\n",
      "read: /\n",
      "line comment: /\n",
      "line comment:  \n",
      "line comment: L\n",
      "line comment: i\n",
      "line comment: n\n",
      "line comment: e\n",
      "line comment: \n",
      "\n",
      "read: /\n",
      "line comment: /\n",
      "line comment: \n",
      "\n",
      "read: c\n",
      "read: o\n",
      "read: n\n",
      "read: s\n",
      "read: o\n",
      "read: l\n",
      "read: e\n",
      "read: .\n",
      "read: l\n",
      "read: o\n",
      "read: g\n",
      "read: (\n",
      "read: 3\n",
      "read:  \n",
      "read: /\n",
      "read:  \n",
      "read: 2\n",
      "read: )\n",
      "read: \n",
      "\n",
      "read: c\n",
      "read: o\n",
      "read: n\n",
      "read: s\n",
      "read: o\n",
      "read: l\n",
      "read: e\n",
      "read: .\n",
      "read: l\n",
      "read: o\n",
      "read: g\n",
      "read: (\n",
      "read: \"\n",
      "quotes: /\n",
      "quotes: /\n",
      "quotes:  \n",
      "quotes: T\n",
      "quotes: h\n",
      "quotes: i\n",
      "quotes: s\n",
      "quotes:  \n",
      "quotes: i\n",
      "quotes: s\n",
      "quotes:  \n",
      "quotes: n\n",
      "quotes: o\n",
      "quotes: t\n",
      "quotes:  \n",
      "quotes: a\n",
      "quotes:  \n",
      "quotes: c\n",
      "quotes: o\n",
      "quotes: m\n",
      "quotes: m\n",
      "quotes: e\n",
      "quotes: n\n",
      "quotes: t\n",
      "quotes: \"\n",
      "read: )\n",
      "read: \n",
      "\n",
      "read: c\n",
      "read: o\n",
      "read: n\n",
      "read: s\n",
      "read: o\n",
      "read: l\n",
      "read: e\n",
      "read: .\n",
      "read: l\n",
      "read: o\n",
      "read: g\n",
      "read: (\n",
      "read: 5\n",
      "read: )\n",
      "read:  \n",
      "read: /\n",
      "line comment: /\n",
      "line comment:  \n",
      "line comment: A\n",
      "line comment: n\n",
      "line comment: d\n",
      "line comment:  \n",
      "line comment: t\n",
      "line comment: h\n",
      "line comment: i\n",
      "line comment: s\n",
      "line comment:  \n",
      "line comment: i\n",
      "line comment: s\n",
      "line comment:  \n",
      "line comment: a\n",
      "line comment:  \n",
      "line comment: c\n",
      "line comment: o\n",
      "line comment: m\n",
      "line comment: m\n",
      "line comment: e\n",
      "line comment: n\n",
      "line comment: t\n",
      "line comment: \n",
      "\n",
      "read: /\n",
      "line comment: /\n"
     ]
    },
    {
     "data": {
      "text/plain": [
       "'\\nconsole.log(1)\\n\\nconsole.log(2)\\n\\n\\n\\nconsole.log(3 / 2)\\nconsole.log(\"// This is not a comment\")\\nconsole.log(5) \\n'"
      ]
     },
     "execution_count": 187,
     "metadata": {},
     "output_type": "execute_result"
    }
   ],
   "source": [
    "pointer = 0\n",
    "currentstate = state.READ\n",
    "out = ''\n",
    "while(pointer < len(data) - 1):\n",
    "    statemap[currentstate]()\n",
    "    if currentstate == state.READ or currentstate == state.QUOTES:\n",
    "        out += data[pointer]\n",
    "    pointer += 1\n",
    "    \n",
    "out"
   ]
  },
  {
   "cell_type": "code",
   "execution_count": 188,
   "metadata": {},
   "outputs": [],
   "source": [
    "with open('output/{}'.format(filename), 'w') as f:\n",
    "    f.write(out)"
   ]
  },
  {
   "cell_type": "code",
   "execution_count": null,
   "metadata": {},
   "outputs": [],
   "source": []
  },
  {
   "cell_type": "code",
   "execution_count": null,
   "metadata": {},
   "outputs": [],
   "source": []
  }
 ],
 "metadata": {
  "kernelspec": {
   "display_name": "py38",
   "language": "python",
   "name": "myipy_jupter_env3"
  },
  "language_info": {
   "codemirror_mode": {
    "name": "ipython",
    "version": 3
   },
   "file_extension": ".py",
   "mimetype": "text/x-python",
   "name": "python",
   "nbconvert_exporter": "python",
   "pygments_lexer": "ipython3",
   "version": "3.8.1"
  }
 },
 "nbformat": 4,
 "nbformat_minor": 4
}
